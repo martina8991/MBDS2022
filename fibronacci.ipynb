{
 "cells": [
  {
   "cell_type": "code",
   "execution_count": 1,
   "metadata": {},
   "outputs": [
    {
     "name": "stdout",
     "output_type": "stream",
     "text": [
      "139 µs ± 19.4 µs per loop (mean ± std. dev. of 7 runs, 10,000 loops each)\n",
      "18.2 ms ± 2.73 ms per loop (mean ± std. dev. of 7 runs, 10 loops each)\n",
      "1.98 s ± 46.9 ms per loop (mean ± std. dev. of 7 runs, 1 loop each)\n"
     ]
    }
   ],
   "source": [
    "def fibonacci_rec(n):\n",
    "    assert n >= 0\n",
    "    if n == 0:\n",
    "        result = 0\n",
    "    elif n == 1:\n",
    "        result = 1\n",
    "    else:\n",
    "        result = fibonacci_rec(n-1) + fibonacci_rec(n-2)\n",
    "    return result\n",
    "\n",
    "#print(fibonacci_rec(5))\n",
    "%timeit fibonacci_rec(10)\n",
    "%timeit fibonacci_rec(20)\n",
    "%timeit fibonacci_rec(30)"
   ]
  },
  {
   "cell_type": "code",
   "execution_count": 2,
   "metadata": {},
   "outputs": [
    {
     "name": "stdout",
     "output_type": "stream",
     "text": [
      "633 ns ± 45.4 ns per loop (mean ± std. dev. of 7 runs, 1,000,000 loops each)\n",
      "556 ns ± 7.03 ns per loop (mean ± std. dev. of 7 runs, 1,000,000 loops each)\n",
      "552 ns ± 14.6 ns per loop (mean ± std. dev. of 7 runs, 1,000,000 loops each)\n"
     ]
    }
   ],
   "source": [
    "# Fibonacci recursive, improved\n",
    "memo = {}  # let's remember the important stuff here\n",
    "def fibonacci_rec_memo(n):\n",
    "    \"\"\"Recursive Fibonacci + caching for speedup\"\"\"\n",
    "    if n in memo:\n",
    "        # Great! We are done\n",
    "        return memo[n]\n",
    "    # No such luck, will require some more work\n",
    "    if n == 0:\n",
    "        result = 0\n",
    "    elif n == 1:\n",
    "        result = 1\n",
    "    else:\n",
    "        result = fibonacci_rec_memo(n-1) + fibonacci_rec_memo(n-2)\n",
    "    memo[n] = result  # save result\n",
    "    return result\n",
    "\n",
    "# Let's time it again...\n",
    "%timeit fibonacci_rec_memo(10)\n",
    "%timeit fibonacci_rec_memo(20)\n",
    "%timeit fibonacci_rec_memo(30)"
   ]
  }
 ],
 "metadata": {
  "kernelspec": {
   "display_name": "base",
   "language": "python",
   "name": "python3"
  },
  "language_info": {
   "codemirror_mode": {
    "name": "ipython",
    "version": 3
   },
   "file_extension": ".py",
   "mimetype": "text/x-python",
   "name": "python",
   "nbconvert_exporter": "python",
   "pygments_lexer": "ipython3",
   "version": "3.9.12"
  },
  "orig_nbformat": 4,
  "vscode": {
   "interpreter": {
    "hash": "410e7cde730e250c7dbb98564c0ab4b2913cc8ef3e544082461ae29f7a1fb465"
   }
  }
 },
 "nbformat": 4,
 "nbformat_minor": 2
}
