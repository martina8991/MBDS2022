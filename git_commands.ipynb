{
 "cells": [
  {
   "attachments": {},
   "cell_type": "markdown",
   "metadata": {},
   "source": [
    "•\tgit checkout --. => restores deleted files/stellt letztes commit wieder her\n",
    "•\tGit --version => gibt Version an\n",
    "•\tgit init => muss im richtigen folder durchgeführt werden? => initializes the folder as a repo\n",
    "•\tcat .git/refs/heads/master => zeigt hash-Wert vom “Master/Main“ branch \n",
    "•\tGit branch –delete “branchname” – deletes branch locally \n"
   ]
  },
  {
   "attachments": {},
   "cell_type": "markdown",
   "metadata": {},
   "source": [
    "Wie erstellt man einen Branch im lokalen Repo ?\n",
    "•\tgit branch “branchname” => macht mir neben dem master/main einen neuen branch\n",
    "•\tgit checkout „branchname“ => wechselt zu diesem branch \n",
    "•\tgit branch => zeigt alle Branches + main/master\n",
    "•\tgit push --set-upstream origin “branchname” => branch wird zu remote repo hinzugefügt (auch als eigener branch, der nicht Teil des masters ist)\n"
   ]
  },
  {
   "attachments": {},
   "cell_type": "markdown",
   "metadata": {},
   "source": [
    "Git Config Command \n",
    "git config --global user.name “user”\n",
    "git config --global user.email \"email\"\n",
    "\n",
    "git config -l => shows information about account \n",
    "git config --list => shows user and e-mail\n",
    "git config --global --unset-all user.name => delete username\n",
    "git config --global –edit => edit user and e-mail\n"
   ]
  },
  {
   "attachments": {},
   "cell_type": "markdown",
   "metadata": {},
   "source": [
    "git log – Show commit history.\n",
    "git log -3  # show last 3 commits\n",
    "•\tgit log --oneline  # show all commits (short format)\n",
    "•\tgit log --stat  # show the amount each file was changed in commits\n",
    "•\tgit log --oneline --stat  # options can be combined (that's actually a pretty useful command)\n"
   ]
  },
  {
   "attachments": {},
   "cell_type": "markdown",
   "metadata": {},
   "source": [
    "git show – Show one or more objects (blobs, trees, tags and commits).\n",
    "•\tgit show REVISION:path/to/file  - REVISION can be a Git commit, a tag name, a branch name, a relative commit name\n",
    "•\tgit show HEAD~2:src/main.py  - view the version of src/main.py from 2 commits ago\n",
    "•\tgit show 390f  - view log message and textual diff of the commit whose SHA-1 identifier starts with 390f\n"
   ]
  },
  {
   "attachments": {},
   "cell_type": "markdown",
   "metadata": {},
   "source": [
    "git diff – Show changes between commits, commit and working tree, etc. (atlassian.com); examples:\n",
    "•\tgit diff  - show changes WORKING TREE -> INDEX\n",
    "•\tgit diff --cached  - changes INDEX -> LAST COMMIT; what you would be committing if you run \"git commit\"\n",
    "•\tgit diff HEAD  - changes WORKING TREE -> LAST COMMIT; what you would be committing if you run \"git commit -a\"\n",
    "•\tgit diff HEAD~1  - changes WORKING TREE -> SECOND LAST COMMIT\n",
    "•\tgit diff HEAD~1 HEAD  - changes SECOND LAST COMMIT -> LAST COMMIT\n",
    "•\tgit diff --stat  - summarize changes (filenames and amount of changes) WORKING TREE -> INDEX\n",
    "•\tgit diff --stat <sha1> <sha2>  - summarize changes between two commits\n"
   ]
  },
  {
   "attachments": {},
   "cell_type": "markdown",
   "metadata": {},
   "source": [
    "How to update local repo:\n",
    "•\tgit status => gives files that have been modified\n",
    "•\tgit add “file-name” => fügt file zum staging hinzu ODER\n",
    "o\tgit add -A => all changes of all files will be moved to the Staging area\n",
    "•\tgit status => gives status of repo => what is changed, staged, commited etc.\n",
    "•\tgit commit -m “message: I changed x and y” => commit to staged changes with a message \n"
   ]
  },
  {
   "attachments": {},
   "cell_type": "markdown",
   "metadata": {},
   "source": [
    "Permanently save user name and pw as a plain text file on device => not very secure!!!!\n",
    "git config --global credential.credentialStore plaintext\n"
   ]
  },
  {
   "attachments": {},
   "cell_type": "markdown",
   "metadata": {},
   "source": [
    "Commands for Remote Repo\n",
    "•\tgit remote -v => shows where you can push repo onto (useful for when you download a repo and want to push it onto github on your own repo)\n",
    "•\tgit remote set-url origin \"link to remote repo\"\n",
    "•\tgit push origin master => pushes repo onto the url => as pw use personal access token\n"
   ]
  },
  {
   "attachments": {},
   "cell_type": "markdown",
   "metadata": {},
   "source": [
    "How to pull repo from github?\n",
    "•\tgit pull “link to remote repo”\n",
    "•\tOr \n",
    "•\tgit clone “link to remote repo”\n",
    "o\tgit clone is how you get a local copy of an existing repository to work on. It's usually only used once for a given repository, unless you want to have multiple working copies of it around.\n",
    "o\tgit pull (or git fetch + git merge) is how you update that local copy with new commits from the remote repository. If you are collaborating with others, it is a command that you will run frequently.\n",
    "o\tClone: Get a working copy of the remote repository.\n",
    "o\tPull: I am working on this, please get me the new changes that may be updated by others.\n"
   ]
  },
  {
   "attachments": {},
   "cell_type": "markdown",
   "metadata": {},
   "source": [
    "Difference between different commands \n",
    "•\tgit clone means you are making a copy of the repository in your system.\n",
    "•\tgit fork means you are copying the repository to your Github account.\n",
    "•\tgit pull means you are fetching the last modified repository.\n",
    "•\tgit push means you are returning the repository after modifying it.\n",
    "•\tIn layman's term: git clone is downloading and git pull is refreshing. \n"
   ]
  },
  {
   "attachments": {},
   "cell_type": "markdown",
   "metadata": {},
   "source": [
    "Konflikte\n",
    "Konflikt wenn man das remote repo und das lokale repo gleichzeitig verändert ohne vorher zu pushen/pullen\n",
    "Wenn man pushen möchte => rejected \n",
    "wen man pullen möchte => fail\n",
    "Man kann remote repo pullen und dabei das local und remote mergen => \n",
    "1.\tgit config pull.rebase false\n",
    "2.\tgit pull\n",
    "3.\tbeide Änderungen werden übernommen im local repo (aber nicht im remote)\n",
    "Oder\n",
    "1.\tGit fetch\n",
    "git fetch => fetches most recent remote repo without overwriting local repo\n",
    "git fetch gathers any commits from the target branch that do not exist in the current branch and stores them in your local repository. However, it does not merge them with your current branch.\n",
    "\n",
    "2.\tgit merge (merged beide Veränderungen, jedoch kann er das nicht selbstständig machen wenn die Veränderung in der gleichen Zeile ist)\n",
    "\n",
    "3.\tRemote Veränderungen werden im local repo übernommen (aber keine localen im remote)\n",
    "\n",
    "\n",
    "Wenn Konflikt überhaupt nicht lösbar => files wo anders speichern => local repo löschen => online repo nochmal downloaden => manuell schauen wo man die lokalen Änderungen einbauen kann\n"
   ]
  },
  {
   "cell_type": "markdown",
   "metadata": {},
   "source": []
  }
 ],
 "metadata": {
  "language_info": {
   "name": "python"
  },
  "orig_nbformat": 4
 },
 "nbformat": 4,
 "nbformat_minor": 2
}
